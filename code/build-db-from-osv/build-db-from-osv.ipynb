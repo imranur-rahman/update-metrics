{
 "cells": [
  {
   "cell_type": "code",
   "execution_count": 2,
   "metadata": {},
   "outputs": [],
   "source": [
    "import json\n",
    "import logging\n",
    "import os\n",
    "import pandas as pd\n",
    "import re\n",
    "import sqlalchemy\n",
    "import sys"
   ]
  },
  {
   "cell_type": "code",
   "execution_count": 3,
   "metadata": {},
   "outputs": [],
   "source": [
    "# Logging init\n",
    "os.remove(\"./build-db-from-osv.log\") if os.path.exists(\"./build-db-from-osv.log\") else None\n",
    "logger = logging.getLogger()\n",
    "fhandler = logging.FileHandler(filename='build-db-from-osv.log', mode='a')\n",
    "formatter = logging.Formatter('%(asctime)s - %(name)s - %(levelname)s - %(message)s')\n",
    "fhandler.setFormatter(formatter)\n",
    "logger.addHandler(fhandler)\n",
    "logger.setLevel(logging.DEBUG)"
   ]
  },
  {
   "cell_type": "markdown",
   "metadata": {},
   "source": [
    "- Read the json files for each ecosystem.\n",
    "- Parse and make dataframe of these.\n",
    "- Put the dataframe to database."
   ]
  },
  {
   "cell_type": "code",
   "execution_count": 4,
   "metadata": {},
   "outputs": [
    {
     "data": {
      "text/html": [
       "<div>\n",
       "<style scoped>\n",
       "    .dataframe tbody tr th:only-of-type {\n",
       "        vertical-align: middle;\n",
       "    }\n",
       "\n",
       "    .dataframe tbody tr th {\n",
       "        vertical-align: top;\n",
       "    }\n",
       "\n",
       "    .dataframe thead th {\n",
       "        text-align: right;\n",
       "    }\n",
       "</style>\n",
       "<table border=\"1\" class=\"dataframe\">\n",
       "  <thead>\n",
       "    <tr style=\"text-align: right;\">\n",
       "      <th></th>\n",
       "      <th>vul_id</th>\n",
       "      <th>system_name</th>\n",
       "      <th>package_name</th>\n",
       "      <th>vul_introduced</th>\n",
       "      <th>vul_fixed</th>\n",
       "    </tr>\n",
       "  </thead>\n",
       "  <tbody>\n",
       "    <tr>\n",
       "      <th>0</th>\n",
       "      <td>GHSA-69fv-gw6g-8ccg</td>\n",
       "      <td>CRATES.IO</td>\n",
       "      <td>arrayfire</td>\n",
       "      <td>0</td>\n",
       "      <td>3.6.0</td>\n",
       "    </tr>\n",
       "    <tr>\n",
       "      <th>1</th>\n",
       "      <td>GHSA-69fv-gw6g-8ccg</td>\n",
       "      <td>PYPI</td>\n",
       "      <td>arrayfire</td>\n",
       "      <td>0</td>\n",
       "      <td>3.6.0</td>\n",
       "    </tr>\n",
       "    <tr>\n",
       "      <th>2</th>\n",
       "      <td>RUSTSEC-2024-0008</td>\n",
       "      <td>CRATES.IO</td>\n",
       "      <td>trillium-client</td>\n",
       "      <td>0.0.0-0</td>\n",
       "      <td>0.5.4</td>\n",
       "    </tr>\n",
       "    <tr>\n",
       "      <th>3</th>\n",
       "      <td>GHSA-mjv9-vp6w-3rc9</td>\n",
       "      <td>CRATES.IO</td>\n",
       "      <td>aws-sigv4</td>\n",
       "      <td>0.55.0</td>\n",
       "      <td>0.55.1</td>\n",
       "    </tr>\n",
       "    <tr>\n",
       "      <th>4</th>\n",
       "      <td>GHSA-mjv9-vp6w-3rc9</td>\n",
       "      <td>CRATES.IO</td>\n",
       "      <td>aws-sigv4</td>\n",
       "      <td>0.54.1</td>\n",
       "      <td>0.54.2</td>\n",
       "    </tr>\n",
       "  </tbody>\n",
       "</table>\n",
       "</div>"
      ],
      "text/plain": [
       "                vul_id system_name     package_name vul_introduced vul_fixed\n",
       "0  GHSA-69fv-gw6g-8ccg   CRATES.IO        arrayfire              0     3.6.0\n",
       "1  GHSA-69fv-gw6g-8ccg        PYPI        arrayfire              0     3.6.0\n",
       "2    RUSTSEC-2024-0008   CRATES.IO  trillium-client        0.0.0-0     0.5.4\n",
       "3  GHSA-mjv9-vp6w-3rc9   CRATES.IO        aws-sigv4         0.55.0    0.55.1\n",
       "4  GHSA-mjv9-vp6w-3rc9   CRATES.IO        aws-sigv4         0.54.1    0.54.2"
      ]
     },
     "execution_count": 4,
     "metadata": {},
     "output_type": "execute_result"
    }
   ],
   "source": [
    "df = pd.DataFrame(columns = ['vul_id', 'system_name', 'package_name', 'vul_introduced', 'vul_fixed'])\n",
    "# df = pd.DataFrame()\n",
    "data_dir = os.path.join(os.path.join(os.path.join(os.path.join(os.getcwd(), os.pardir), os.pardir), \"data\"), \"osv-data\")\n",
    "for (root,dirs,files) in os.walk(data_dir, topdown=True):\n",
    "    for file in files:\n",
    "        if file.endswith(\".json\"):\n",
    "            file_path = os.path.join(data_dir, root, file)\n",
    "            # logging.debug(f\"files: {root}/{file} -> start\")\n",
    "            with open(file_path, 'r', encoding='utf-8') as f:\n",
    "                # try:\n",
    "                    data = json.load(f)\n",
    "\n",
    "                    vul_id = data[\"id\"]\n",
    "                    # logging.debug(f\"{vul_id}\")\n",
    "\n",
    "                    package_name = \"\"\n",
    "                    \n",
    "                    if 'affected' in data:\n",
    "                        for affected in data['affected']:\n",
    "                            if 'package' in affected and 'ranges' in affected:\n",
    "                                package_name = affected['package']['name']\n",
    "                                # logging.debug(f\"package_name: {package_name}\")\n",
    "                                system_name = affected['package']['ecosystem']\n",
    "                                # logging.debug(f\"system_name: {system_name}\")\n",
    "                                ranges = affected['ranges']\n",
    "                                for range in ranges:\n",
    "                                    events = range['events']\n",
    "                                    for event in events:\n",
    "                                        if 'introduced' in event:\n",
    "                                            vul_introduced = event['introduced']\n",
    "                                        elif 'fixed' in event:\n",
    "                                            vul_fixed = event['fixed']\n",
    "                                            # logging.debug(f\"vul intro: {vul_introduced}, fixed: {vul_fixed}\")\n",
    "                                            df_temp = pd.DataFrame({\n",
    "                                                'vul_id': vul_id,\n",
    "                                                'system_name': system_name.upper(),\n",
    "                                                'package_name': package_name,\n",
    "                                                'vul_introduced': vul_introduced,\n",
    "                                                'vul_fixed': vul_fixed\n",
    "                                            }, index=[0])\n",
    "                                            # logging.debug(f\"dataframe: {df_temp.to_string()}\")\n",
    "                                            df = pd.concat([df, df_temp], ignore_index=True)\n",
    "                # except Exception:\n",
    "                #     pass\n",
    "df.head()"
   ]
  },
  {
   "cell_type": "code",
   "execution_count": 5,
   "metadata": {},
   "outputs": [
    {
     "name": "stdout",
     "output_type": "stream",
     "text": [
      "['CRATES.IO' 'PYPI' 'GO' 'NPM' 'MAVEN' 'NUGET' 'SWIFTURL' 'RUBYGEMS'\n",
      " 'PACKAGIST' 'PUB' 'HEX']\n"
     ]
    }
   ],
   "source": [
    "print (df.system_name.unique())"
   ]
  },
  {
   "cell_type": "code",
   "execution_count": 6,
   "metadata": {},
   "outputs": [
    {
     "data": {
      "text/plain": [
       "(19095, 5)"
      ]
     },
     "execution_count": 6,
     "metadata": {},
     "output_type": "execute_result"
    }
   ],
   "source": [
    "df.shape\n"
   ]
  },
  {
   "cell_type": "code",
   "execution_count": 7,
   "metadata": {},
   "outputs": [
    {
     "data": {
      "text/plain": [
       "(19095, 5)"
      ]
     },
     "execution_count": 7,
     "metadata": {},
     "output_type": "execute_result"
    }
   ],
   "source": [
    "df.dropna(inplace=True)\n",
    "df.shape"
   ]
  },
  {
   "cell_type": "code",
   "execution_count": 8,
   "metadata": {},
   "outputs": [],
   "source": [
    "def transformation_semver(x):\n",
    "    if x == '0':\n",
    "        return '0.0.0'\n",
    "    elif x.count('.') == 0:\n",
    "        return x + '.0.0'\n",
    "    elif re.match(r'(\\d+(\\.\\d*))', x) and x.count('.') == 1:\n",
    "        return x + '.0'\n",
    "    else:\n",
    "        return x"
   ]
  },
  {
   "cell_type": "code",
   "execution_count": 9,
   "metadata": {},
   "outputs": [],
   "source": [
    "def transformation_system_name(x):\n",
    "    if x == 'CRATES.IO':\n",
    "        return 'CARGO'\n",
    "    else:\n",
    "        return x"
   ]
  },
  {
   "cell_type": "code",
   "execution_count": 10,
   "metadata": {},
   "outputs": [],
   "source": [
    "df['system_name'] = df['system_name'].apply(transformation_system_name)"
   ]
  },
  {
   "cell_type": "code",
   "execution_count": 11,
   "metadata": {},
   "outputs": [],
   "source": [
    "df['vul_introduced'] = df['vul_introduced'].apply(transformation_semver)"
   ]
  },
  {
   "cell_type": "code",
   "execution_count": 12,
   "metadata": {},
   "outputs": [],
   "source": [
    "def filter_rows_by_values(df, col, values):\n",
    "    return df[~df[col].isin(values)]"
   ]
  },
  {
   "cell_type": "code",
   "execution_count": 13,
   "metadata": {},
   "outputs": [],
   "source": [
    "df = filter_rows_by_values(df, 'system_name', ['MAVEN', 'NUGET', 'PACKAGIST', 'GO', 'RUBYGEMS',\n",
    " 'SWIFTURL', 'PUB', 'HEX'])"
   ]
  },
  {
   "cell_type": "code",
   "execution_count": 14,
   "metadata": {},
   "outputs": [
    {
     "data": {
      "text/html": [
       "<div>\n",
       "<style scoped>\n",
       "    .dataframe tbody tr th:only-of-type {\n",
       "        vertical-align: middle;\n",
       "    }\n",
       "\n",
       "    .dataframe tbody tr th {\n",
       "        vertical-align: top;\n",
       "    }\n",
       "\n",
       "    .dataframe thead th {\n",
       "        text-align: right;\n",
       "    }\n",
       "</style>\n",
       "<table border=\"1\" class=\"dataframe\">\n",
       "  <thead>\n",
       "    <tr style=\"text-align: right;\">\n",
       "      <th></th>\n",
       "      <th>vul_id</th>\n",
       "      <th>system_name</th>\n",
       "      <th>package_name</th>\n",
       "      <th>vul_introduced</th>\n",
       "      <th>vul_fixed</th>\n",
       "    </tr>\n",
       "  </thead>\n",
       "  <tbody>\n",
       "    <tr>\n",
       "      <th>0</th>\n",
       "      <td>GHSA-69fv-gw6g-8ccg</td>\n",
       "      <td>CARGO</td>\n",
       "      <td>arrayfire</td>\n",
       "      <td>0.0.0</td>\n",
       "      <td>3.6.0</td>\n",
       "    </tr>\n",
       "    <tr>\n",
       "      <th>1</th>\n",
       "      <td>GHSA-69fv-gw6g-8ccg</td>\n",
       "      <td>PYPI</td>\n",
       "      <td>arrayfire</td>\n",
       "      <td>0.0.0</td>\n",
       "      <td>3.6.0</td>\n",
       "    </tr>\n",
       "    <tr>\n",
       "      <th>2</th>\n",
       "      <td>RUSTSEC-2024-0008</td>\n",
       "      <td>CARGO</td>\n",
       "      <td>trillium-client</td>\n",
       "      <td>0.0.0-0</td>\n",
       "      <td>0.5.4</td>\n",
       "    </tr>\n",
       "    <tr>\n",
       "      <th>3</th>\n",
       "      <td>GHSA-mjv9-vp6w-3rc9</td>\n",
       "      <td>CARGO</td>\n",
       "      <td>aws-sigv4</td>\n",
       "      <td>0.55.0</td>\n",
       "      <td>0.55.1</td>\n",
       "    </tr>\n",
       "    <tr>\n",
       "      <th>4</th>\n",
       "      <td>GHSA-mjv9-vp6w-3rc9</td>\n",
       "      <td>CARGO</td>\n",
       "      <td>aws-sigv4</td>\n",
       "      <td>0.54.1</td>\n",
       "      <td>0.54.2</td>\n",
       "    </tr>\n",
       "  </tbody>\n",
       "</table>\n",
       "</div>"
      ],
      "text/plain": [
       "                vul_id system_name     package_name vul_introduced vul_fixed\n",
       "0  GHSA-69fv-gw6g-8ccg       CARGO        arrayfire          0.0.0     3.6.0\n",
       "1  GHSA-69fv-gw6g-8ccg        PYPI        arrayfire          0.0.0     3.6.0\n",
       "2    RUSTSEC-2024-0008       CARGO  trillium-client        0.0.0-0     0.5.4\n",
       "3  GHSA-mjv9-vp6w-3rc9       CARGO        aws-sigv4         0.55.0    0.55.1\n",
       "4  GHSA-mjv9-vp6w-3rc9       CARGO        aws-sigv4         0.54.1    0.54.2"
      ]
     },
     "execution_count": 14,
     "metadata": {},
     "output_type": "execute_result"
    }
   ],
   "source": [
    "df.head()"
   ]
  },
  {
   "cell_type": "code",
   "execution_count": 15,
   "metadata": {},
   "outputs": [
    {
     "data": {
      "text/html": [
       "<div>\n",
       "<style scoped>\n",
       "    .dataframe tbody tr th:only-of-type {\n",
       "        vertical-align: middle;\n",
       "    }\n",
       "\n",
       "    .dataframe tbody tr th {\n",
       "        vertical-align: top;\n",
       "    }\n",
       "\n",
       "    .dataframe thead th {\n",
       "        text-align: right;\n",
       "    }\n",
       "</style>\n",
       "<table border=\"1\" class=\"dataframe\">\n",
       "  <thead>\n",
       "    <tr style=\"text-align: right;\">\n",
       "      <th></th>\n",
       "      <th>vul_id</th>\n",
       "      <th>system_name</th>\n",
       "      <th>package_name</th>\n",
       "      <th>vul_introduced</th>\n",
       "      <th>vul_fixed</th>\n",
       "    </tr>\n",
       "  </thead>\n",
       "  <tbody>\n",
       "    <tr>\n",
       "      <th>0</th>\n",
       "      <td>GHSA-69fv-gw6g-8ccg</td>\n",
       "      <td>CARGO</td>\n",
       "      <td>arrayfire</td>\n",
       "      <td>0.0.0</td>\n",
       "      <td>3.6.0</td>\n",
       "    </tr>\n",
       "    <tr>\n",
       "      <th>1</th>\n",
       "      <td>GHSA-69fv-gw6g-8ccg</td>\n",
       "      <td>PYPI</td>\n",
       "      <td>arrayfire</td>\n",
       "      <td>0.0.0</td>\n",
       "      <td>3.6.0</td>\n",
       "    </tr>\n",
       "    <tr>\n",
       "      <th>2</th>\n",
       "      <td>RUSTSEC-2024-0008</td>\n",
       "      <td>CARGO</td>\n",
       "      <td>trillium-client</td>\n",
       "      <td>0.0.0-0</td>\n",
       "      <td>0.5.4</td>\n",
       "    </tr>\n",
       "    <tr>\n",
       "      <th>3</th>\n",
       "      <td>GHSA-mjv9-vp6w-3rc9</td>\n",
       "      <td>CARGO</td>\n",
       "      <td>aws-sigv4</td>\n",
       "      <td>0.55.0</td>\n",
       "      <td>0.55.1</td>\n",
       "    </tr>\n",
       "    <tr>\n",
       "      <th>4</th>\n",
       "      <td>GHSA-mjv9-vp6w-3rc9</td>\n",
       "      <td>CARGO</td>\n",
       "      <td>aws-sigv4</td>\n",
       "      <td>0.54.1</td>\n",
       "      <td>0.54.2</td>\n",
       "    </tr>\n",
       "    <tr>\n",
       "      <th>...</th>\n",
       "      <td>...</td>\n",
       "      <td>...</td>\n",
       "      <td>...</td>\n",
       "      <td>...</td>\n",
       "      <td>...</td>\n",
       "    </tr>\n",
       "    <tr>\n",
       "      <th>19090</th>\n",
       "      <td>GHSA-6p5r-g9mq-ggh2</td>\n",
       "      <td>PYPI</td>\n",
       "      <td>tensorflow-gpu</td>\n",
       "      <td>2.4.0</td>\n",
       "      <td>2.4.3</td>\n",
       "    </tr>\n",
       "    <tr>\n",
       "      <th>19091</th>\n",
       "      <td>GHSA-6p5r-g9mq-ggh2</td>\n",
       "      <td>PYPI</td>\n",
       "      <td>tensorflow-gpu</td>\n",
       "      <td>2.5.0</td>\n",
       "      <td>2.5.1</td>\n",
       "    </tr>\n",
       "    <tr>\n",
       "      <th>19092</th>\n",
       "      <td>GHSA-9v8h-57gv-qch6</td>\n",
       "      <td>PYPI</td>\n",
       "      <td>django</td>\n",
       "      <td>0.96.0</td>\n",
       "      <td>0.96.1</td>\n",
       "    </tr>\n",
       "    <tr>\n",
       "      <th>19093</th>\n",
       "      <td>GHSA-9v8h-57gv-qch6</td>\n",
       "      <td>PYPI</td>\n",
       "      <td>django</td>\n",
       "      <td>0.95.0</td>\n",
       "      <td>0.95.2</td>\n",
       "    </tr>\n",
       "    <tr>\n",
       "      <th>19094</th>\n",
       "      <td>GHSA-9v8h-57gv-qch6</td>\n",
       "      <td>PYPI</td>\n",
       "      <td>django</td>\n",
       "      <td>0.91.0</td>\n",
       "      <td>0.91.1</td>\n",
       "    </tr>\n",
       "  </tbody>\n",
       "</table>\n",
       "<p>18578 rows × 5 columns</p>\n",
       "</div>"
      ],
      "text/plain": [
       "                    vul_id system_name     package_name vul_introduced  \\\n",
       "0      GHSA-69fv-gw6g-8ccg       CARGO        arrayfire          0.0.0   \n",
       "1      GHSA-69fv-gw6g-8ccg        PYPI        arrayfire          0.0.0   \n",
       "2        RUSTSEC-2024-0008       CARGO  trillium-client        0.0.0-0   \n",
       "3      GHSA-mjv9-vp6w-3rc9       CARGO        aws-sigv4         0.55.0   \n",
       "4      GHSA-mjv9-vp6w-3rc9       CARGO        aws-sigv4         0.54.1   \n",
       "...                    ...         ...              ...            ...   \n",
       "19090  GHSA-6p5r-g9mq-ggh2        PYPI   tensorflow-gpu          2.4.0   \n",
       "19091  GHSA-6p5r-g9mq-ggh2        PYPI   tensorflow-gpu          2.5.0   \n",
       "19092  GHSA-9v8h-57gv-qch6        PYPI           django         0.96.0   \n",
       "19093  GHSA-9v8h-57gv-qch6        PYPI           django         0.95.0   \n",
       "19094  GHSA-9v8h-57gv-qch6        PYPI           django         0.91.0   \n",
       "\n",
       "      vul_fixed  \n",
       "0         3.6.0  \n",
       "1         3.6.0  \n",
       "2         0.5.4  \n",
       "3        0.55.1  \n",
       "4        0.54.2  \n",
       "...         ...  \n",
       "19090     2.4.3  \n",
       "19091     2.5.1  \n",
       "19092    0.96.1  \n",
       "19093    0.95.2  \n",
       "19094    0.91.1  \n",
       "\n",
       "[18578 rows x 5 columns]"
      ]
     },
     "execution_count": 15,
     "metadata": {},
     "output_type": "execute_result"
    }
   ],
   "source": [
    "df\n"
   ]
  },
  {
   "cell_type": "code",
   "execution_count": 16,
   "metadata": {},
   "outputs": [
    {
     "name": "stdout",
     "output_type": "stream",
     "text": [
      "['CARGO' 'PYPI' 'NPM']\n"
     ]
    }
   ],
   "source": [
    "print (df.system_name.unique())"
   ]
  },
  {
   "cell_type": "markdown",
   "metadata": {},
   "source": [
    "# Send it to POSTGRES"
   ]
  },
  {
   "cell_type": "code",
   "execution_count": 17,
   "metadata": {},
   "outputs": [],
   "source": [
    "connection_str = \"postgresql{dbapi}://{user}:{pw}@{host}:{port}/{db}\".format(\n",
    "        dbapi='',\n",
    "        # dbapi=\"+pg8000\",\n",
    "        # dbapi=\"+psycopg\",\n",
    "        user=\"metricsuser\",\n",
    "        pw=\"metricspassword\",\n",
    "        host=\"localhost\",\n",
    "        port=\"5432\",\n",
    "        db=\"metrics\")\n",
    "# print (connection_str)\n",
    "engine = sqlalchemy.create_engine(connection_str)\n",
    "with engine.begin() as connection:\n",
    "        df.to_sql(con=connection,\n",
    "                name='osv',\n",
    "                if_exists='append',\n",
    "                index=False,\n",
    "                dtype={\n",
    "                        'vul_id': sqlalchemy.types.VARCHAR,\n",
    "                        'system_name': sqlalchemy.types.VARCHAR,\n",
    "                        'package_name': sqlalchemy.types.VARCHAR,\n",
    "                        'vul_introduced': sqlalchemy.types.VARCHAR,\n",
    "                        'vul_fixed': sqlalchemy.types.VARCHAR\n",
    "                }\n",
    "        )"
   ]
  }
 ],
 "metadata": {
  "kernelspec": {
   "display_name": "secmet_venv",
   "language": "python",
   "name": "python3"
  },
  "language_info": {
   "codemirror_mode": {
    "name": "ipython",
    "version": 3
   },
   "file_extension": ".py",
   "mimetype": "text/x-python",
   "name": "python",
   "nbconvert_exporter": "python",
   "pygments_lexer": "ipython3",
   "version": "3.12.3"
  }
 },
 "nbformat": 4,
 "nbformat_minor": 2
}
