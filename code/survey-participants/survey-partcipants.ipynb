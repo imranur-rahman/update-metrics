{
 "cells": [
  {
   "cell_type": "code",
   "execution_count": 1,
   "metadata": {},
   "outputs": [],
   "source": [
    "import pandas as pd"
   ]
  },
  {
   "cell_type": "markdown",
   "metadata": {},
   "source": [
    "Export the participants data collected by NN and use that to select the participants."
   ]
  },
  {
   "cell_type": "code",
   "execution_count": 4,
   "metadata": {},
   "outputs": [],
   "source": [
    "js_chosen_dependents = pd.read_csv('../../data/survey-participants/js_chosen_dependents_for_script.csv')\n",
    "python_chosen_dependents = pd.read_csv('../../data/survey-participants/python_chosen_dependents_for_script.csv')"
   ]
  },
  {
   "cell_type": "code",
   "execution_count": 5,
   "metadata": {},
   "outputs": [
    {
     "data": {
      "text/html": [
       "<div>\n",
       "<style scoped>\n",
       "    .dataframe tbody tr th:only-of-type {\n",
       "        vertical-align: middle;\n",
       "    }\n",
       "\n",
       "    .dataframe tbody tr th {\n",
       "        vertical-align: top;\n",
       "    }\n",
       "\n",
       "    .dataframe thead th {\n",
       "        text-align: right;\n",
       "    }\n",
       "</style>\n",
       "<table border=\"1\" class=\"dataframe\">\n",
       "  <thead>\n",
       "    <tr style=\"text-align: right;\">\n",
       "      <th></th>\n",
       "      <th>repo_name</th>\n",
       "      <th>dependencies</th>\n",
       "    </tr>\n",
       "  </thead>\n",
       "  <tbody>\n",
       "    <tr>\n",
       "      <th>0</th>\n",
       "      <td>facebook/react</td>\n",
       "      <td>uglify-js, @babel/core, @babel/preset-react, u...</td>\n",
       "    </tr>\n",
       "    <tr>\n",
       "      <th>1</th>\n",
       "      <td>vercel/next.js</td>\n",
       "      <td>@apollo/react-hooks, @apollo/react-ssr, @testi...</td>\n",
       "    </tr>\n",
       "    <tr>\n",
       "      <th>2</th>\n",
       "      <td>nodejs/node</td>\n",
       "      <td>@typescript-eslint/parser, @mysticatea/eslint-...</td>\n",
       "    </tr>\n",
       "    <tr>\n",
       "      <th>3</th>\n",
       "      <td>facebook/create-react-app</td>\n",
       "      <td>eslint-webpack-plugin, prompts, open, @docusau...</td>\n",
       "    </tr>\n",
       "    <tr>\n",
       "      <th>4</th>\n",
       "      <td>callemall/material-ui</td>\n",
       "      <td>@types/react, typescript, @types/react-dom, @m...</td>\n",
       "    </tr>\n",
       "  </tbody>\n",
       "</table>\n",
       "</div>"
      ],
      "text/plain": [
       "                   repo_name  \\\n",
       "0             facebook/react   \n",
       "1             vercel/next.js   \n",
       "2                nodejs/node   \n",
       "3  facebook/create-react-app   \n",
       "4      callemall/material-ui   \n",
       "\n",
       "                                        dependencies  \n",
       "0  uglify-js, @babel/core, @babel/preset-react, u...  \n",
       "1  @apollo/react-hooks, @apollo/react-ssr, @testi...  \n",
       "2  @typescript-eslint/parser, @mysticatea/eslint-...  \n",
       "3  eslint-webpack-plugin, prompts, open, @docusau...  \n",
       "4  @types/react, typescript, @types/react-dom, @m...  "
      ]
     },
     "execution_count": 5,
     "metadata": {},
     "output_type": "execute_result"
    }
   ],
   "source": [
    "js_chosen_dependents.head()"
   ]
  },
  {
   "cell_type": "code",
   "execution_count": 6,
   "metadata": {
    "vscode": {
     "languageId": "ruby"
    }
   },
   "outputs": [
    {
     "name": "stdout",
     "output_type": "stream",
     "text": [
      "        repo_name         dependencies\n",
      "0  facebook/react            uglify-js\n",
      "0  facebook/react          @babel/core\n",
      "0  facebook/react  @babel/preset-react\n",
      "0  facebook/react             uglifyjs\n",
      "0  facebook/react           babel-core\n",
      "         repo_name  dependencies\n",
      "0  ansible/ansible        pytest\n",
      "0  ansible/ansible         boto3\n",
      "0  ansible/ansible  cryptography\n",
      "0  ansible/ansible      botocore\n",
      "0  ansible/ansible           six\n"
     ]
    }
   ],
   "source": [
    "# Split the dependencies column values based on ',' and space\n",
    "js_chosen_dependents['dependencies'] = js_chosen_dependents['dependencies'].str.split(', ')\n",
    "python_chosen_dependents['dependencies'] = python_chosen_dependents['dependencies'].str.split(', ')\n",
    "\n",
    "# Explode the lists into separate rows\n",
    "js_chosen_dependents_exploded = js_chosen_dependents.explode('dependencies')\n",
    "python_chosen_dependents_exploded = python_chosen_dependents.explode('dependencies')\n",
    "\n",
    "print(js_chosen_dependents_exploded.head())\n",
    "print(python_chosen_dependents_exploded.head())"
   ]
  },
  {
   "cell_type": "code",
   "execution_count": 8,
   "metadata": {
    "vscode": {
     "languageId": "ruby"
    }
   },
   "outputs": [
    {
     "name": "stdout",
     "output_type": "stream",
     "text": [
      "        repo_name         dependencies ecosystem\n",
      "0  facebook/react            uglify-js       NPM\n",
      "0  facebook/react          @babel/core       NPM\n",
      "0  facebook/react  @babel/preset-react       NPM\n",
      "0  facebook/react             uglifyjs       NPM\n",
      "0  facebook/react           babel-core       NPM\n",
      "         repo_name  dependencies ecosystem\n",
      "0  ansible/ansible        pytest      PYPI\n",
      "0  ansible/ansible         boto3      PYPI\n",
      "0  ansible/ansible  cryptography      PYPI\n",
      "0  ansible/ansible      botocore      PYPI\n",
      "0  ansible/ansible           six      PYPI\n"
     ]
    }
   ],
   "source": [
    "# Add 'ecosystem' column with default value 'NPM' for js_chosen_dependents\n",
    "js_chosen_dependents['ecosystem'] = 'NPM'\n",
    "js_chosen_dependents_exploded['ecosystem'] = 'NPM'\n",
    "\n",
    "# Add 'ecosystem' column with default value 'PYPI' for python_chosen_dependents\n",
    "python_chosen_dependents['ecosystem'] = 'PYPI'\n",
    "python_chosen_dependents_exploded['ecosystem'] = 'PYPI'\n",
    "\n",
    "print(js_chosen_dependents_exploded.head())\n",
    "print(python_chosen_dependents_exploded.head())"
   ]
  },
  {
   "cell_type": "code",
   "execution_count": 10,
   "metadata": {},
   "outputs": [
    {
     "name": "stdout",
     "output_type": "stream",
     "text": [
      "js_chosen_dependents and js_chosen_dependents_exploded have the same number of rows: False\n",
      "python_chosen_dependents and python_chosen_dependents_exploded have the same number of rows: False\n"
     ]
    }
   ],
   "source": [
    "# Check for JavaScript chosen dependents\n",
    "js_same_rows = js_chosen_dependents.shape[0] == js_chosen_dependents_exploded.shape[0]\n",
    "print(f\"js_chosen_dependents and js_chosen_dependents_exploded have the same number of rows: {js_same_rows}\")\n",
    "\n",
    "# Check for Python chosen dependents\n",
    "python_same_rows = python_chosen_dependents.shape[0] == python_chosen_dependents_exploded.shape[0]\n",
    "print(f\"python_chosen_dependents and python_chosen_dependents_exploded have the same number of rows: {python_same_rows}\")"
   ]
  },
  {
   "cell_type": "markdown",
   "metadata": {},
   "source": [
    "Load the MTTU and MTTR values"
   ]
  },
  {
   "cell_type": "code",
   "execution_count": 11,
   "metadata": {},
   "outputs": [
    {
     "name": "stdout",
     "output_type": "stream",
     "text": [
      "  system_name from_package_name  total_duration  out_of_date_duration  \\\n",
      "0       CARGO               a10             397                     0   \n",
      "1       CARGO           aarch64             481                   325   \n",
      "2       CARGO      aardvark-dns             618                     0   \n",
      "3       CARGO            ab-av1             582                   100   \n",
      "4       CARGO          ab_glyph            3084                    78   \n",
      "\n",
      "      ratio  avg_total_duration  avg_out_of_date_duration  avg_ratio  \n",
      "0  0.000000               397.0                       0.0   0.000000  \n",
      "1  0.675676               481.0                     325.0   0.675676  \n",
      "2  0.000000               618.0                       0.0   0.000000  \n",
      "3  0.171821               582.0                     100.0   0.171821  \n",
      "4  0.025292              1542.0                      39.0   0.025292  \n",
      "  system_name from_package_name  total_duration  total_post_fix_exposure_time  \\\n",
      "0       CARGO              ahrs             826                           247   \n",
      "1       CARGO      alloc_geiger            1534                          1516   \n",
      "2       CARGO             almel            1682                             9   \n",
      "3       CARGO               amp            1637                           375   \n",
      "4       CARGO             broot            1571                           563   \n",
      "\n",
      "      ratio  avg_total_duration  avg_post_fix_exposure_time  avg_ratio  \n",
      "0  0.299031               826.0                       247.0   0.299031  \n",
      "1  0.988266              1534.0                      1516.0   0.988266  \n",
      "2  0.005351              1682.0                         9.0   0.005351  \n",
      "3  0.229078              1637.0                       375.0   0.229078  \n",
      "4  0.358370              1571.0                       563.0   0.358370  \n"
     ]
    }
   ],
   "source": [
    "mttu = pd.read_csv('../../data/mttu/mttu.csv')\n",
    "mttr = pd.read_csv('../../data/mttr/mttr.csv')\n",
    "\n",
    "print(mttu.head())\n",
    "print(mttr.head())"
   ]
  },
  {
   "cell_type": "code",
   "execution_count": 17,
   "metadata": {},
   "outputs": [
    {
     "name": "stdout",
     "output_type": "stream",
     "text": [
      "(639, 11)\n",
      "104\n"
     ]
    }
   ],
   "source": [
    "# Perform inner join\n",
    "merged_df_js = pd.merge(mttu, js_chosen_dependents_exploded, left_on=['system_name', 'from_package_name'], right_on=['ecosystem', 'dependencies'], how='inner')\n",
    "\n",
    "# Display the result\n",
    "# print(merged_df_js.head())\n",
    "print (merged_df_js.shape)\n",
    "\n",
    "# Get the unique values of 'repo_url' column\n",
    "unique_repo_urls = merged_df_js['repo_name'].unique()\n",
    "print (len(unique_repo_urls))"
   ]
  },
  {
   "cell_type": "code",
   "execution_count": 18,
   "metadata": {},
   "outputs": [
    {
     "name": "stdout",
     "output_type": "stream",
     "text": [
      "(172, 11)\n",
      "96\n"
     ]
    }
   ],
   "source": [
    "# Perform inner join\n",
    "merged_df_python = pd.merge(mttu, python_chosen_dependents_exploded, left_on=['system_name', 'from_package_name'], right_on=['ecosystem', 'dependencies'], how='inner')\n",
    "\n",
    "# Display the result\n",
    "# print(merged_df_python.head())\n",
    "print (merged_df_python.shape)\n",
    "\n",
    "# Get the unique values of 'repo_url' column\n",
    "unique_repo_urls = merged_df_python['repo_name'].unique()\n",
    "print (len(unique_repo_urls))"
   ]
  }
 ],
 "metadata": {
  "kernelspec": {
   "display_name": "secmet_venv",
   "language": "python",
   "name": "python3"
  },
  "language_info": {
   "codemirror_mode": {
    "name": "ipython",
    "version": 3
   },
   "file_extension": ".py",
   "mimetype": "text/x-python",
   "name": "python",
   "nbconvert_exporter": "python",
   "pygments_lexer": "ipython3",
   "version": "3.12.3"
  }
 },
 "nbformat": 4,
 "nbformat_minor": 2
}
