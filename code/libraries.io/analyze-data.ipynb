{
 "cells": [
  {
   "cell_type": "code",
   "execution_count": 2,
   "metadata": {},
   "outputs": [],
   "source": [
    "import os\n",
    "import json\n",
    "import pandas as pd"
   ]
  },
  {
   "cell_type": "code",
   "execution_count": 3,
   "metadata": {},
   "outputs": [],
   "source": [
    "# Define the paths\n",
    "project_path = '../../data/libraries/project'\n",
    "dependencies_path = '../../data/libraries/dependencies'\n",
    "\n",
    "# Initialize lists to store dataframes\n",
    "project_df = pd.DataFrame()\n",
    "dependencies_df  = pd.DataFrame()\n",
    "\n",
    "# Read all JSON files from project directory\n",
    "for file in os.listdir(project_path):\n",
    "    if file.endswith('.json'):\n",
    "        # Read the JSON file\n",
    "        with open(os.path.join(project_path, file), 'r') as f:\n",
    "            data = json.load(f)\n",
    "            df = pd.DataFrame([{\n",
    "                'platform': data['platform'],\n",
    "                'name': data['name'],\n",
    "                'contributions_count': data['contributions_count'],\n",
    "                'dependent_repos_count': data['dependent_repos_count'],\n",
    "                'dependents_count': data['dependents_count'],\n",
    "                'forks': data['forks'],\n",
    "                'rank': data['rank'],\n",
    "                'stars': data['stars']\n",
    "            }])\n",
    "        \n",
    "        # Concatenate to the main dataframe\n",
    "        project_df = pd.concat([project_df, df], ignore_index=True)\n",
    "\n"
   ]
  },
  {
   "cell_type": "code",
   "execution_count": 4,
   "metadata": {},
   "outputs": [
    {
     "name": "stdout",
     "output_type": "stream",
     "text": [
      "Project DataFrame:\n",
      "  platform                                           name  \\\n",
      "0      NPM  @scandipwa/scandipwa-development-toolkit-core   \n",
      "1      NPM                    react-native-usb-serialport   \n",
      "2      NPM         @stdlib/stats-base-dists-binomial-mean   \n",
      "3      NPM                              @arcteryx/js-i18n   \n",
      "4     Pypi                                     ae-literal   \n",
      "\n",
      "   contributions_count  dependent_repos_count  dependents_count  forks  rank  \\\n",
      "0                    0                      0                 4      0     7   \n",
      "1                    0                      1                 3     24     9   \n",
      "2                    1                      7                 8      0    11   \n",
      "3                    0                      0                 0      0     6   \n",
      "4                    0                      1                 5      0     9   \n",
      "\n",
      "   stars  \n",
      "0      0  \n",
      "1     26  \n",
      "2      1  \n",
      "3      0  \n",
      "4      0  \n",
      "\n",
      "Dependencies DataFrame:\n",
      "  platform               name  dependencies_count\n",
      "0    Cargo       s2n-quic-tls                   9\n",
      "1      NPM  @voiceflow/logger                   7\n",
      "2      NPM       @uidu/portal                  14\n",
      "3      NPM     ngx-apple-maps                   1\n",
      "4     Pypi            appteka                   0\n"
     ]
    }
   ],
   "source": [
    "# Read all CSV files from dependencies directory\n",
    "for file in os.listdir(dependencies_path):\n",
    "    if file.endswith('.json'):\n",
    "        with open(os.path.join(dependencies_path, file), 'r') as f:\n",
    "            data = json.load(f)\n",
    "            df = pd.DataFrame([{\n",
    "                'platform': data['platform'],\n",
    "                'name': data['name'],\n",
    "                'dependencies_count': len(data.get('dependencies', []))\n",
    "            }])\n",
    "        dependencies_df = pd.concat([dependencies_df, df], ignore_index=True)\n",
    "\n",
    "# Display the first few rows of both dataframes\n",
    "print(\"Project DataFrame:\")\n",
    "print(project_df.head())\n",
    "print(\"\\nDependencies DataFrame:\")\n",
    "print(dependencies_df.head())"
   ]
  },
  {
   "cell_type": "code",
   "execution_count": 5,
   "metadata": {},
   "outputs": [
    {
     "name": "stdout",
     "output_type": "stream",
     "text": [
      "  platform                                           name  \\\n",
      "0      NPM  @scandipwa/scandipwa-development-toolkit-core   \n",
      "1      NPM                    react-native-usb-serialport   \n",
      "2      NPM         @stdlib/stats-base-dists-binomial-mean   \n",
      "3      NPM                              @arcteryx/js-i18n   \n",
      "4     Pypi                                     ae-literal   \n",
      "\n",
      "   contributions_count  dependent_repos_count  dependents_count  forks  rank  \\\n",
      "0                    0                      0                 4      0     7   \n",
      "1                    0                      1                 3     24     9   \n",
      "2                    1                      7                 8      0    11   \n",
      "3                    0                      0                 0      0     6   \n",
      "4                    0                      1                 5      0     9   \n",
      "\n",
      "   stars  dependencies_count  \n",
      "0      0                  24  \n",
      "1     26                   2  \n",
      "2      1                   3  \n",
      "3      0                   0  \n",
      "4      0                   0  \n"
     ]
    }
   ],
   "source": [
    "# Merge project_df and dependencies_df on platform and name with inner join\n",
    "merged_df = pd.merge(project_df, dependencies_df, on=['platform', 'name'], how='inner')\n",
    "\n",
    "# Display the first few rows to verify the merge\n",
    "print(merged_df.head())"
   ]
  },
  {
   "cell_type": "code",
   "execution_count": 6,
   "metadata": {},
   "outputs": [
    {
     "name": "stdout",
     "output_type": "stream",
     "text": [
      "MTTU DataFrame:\n",
      "  system_name from_package_name  total_duration  out_of_date_duration  \\\n",
      "0       CARGO               a10             397                     0   \n",
      "1       CARGO           aarch64             481                   325   \n",
      "2       CARGO      aardvark-dns             618                     0   \n",
      "3       CARGO            ab-av1             582                   100   \n",
      "4       CARGO          ab_glyph            3084                    78   \n",
      "\n",
      "      ratio  avg_total_duration  avg_out_of_date_duration  avg_ratio  \n",
      "0  0.000000               397.0                       0.0   0.000000  \n",
      "1  0.675676               481.0                     325.0   0.675676  \n",
      "2  0.000000               618.0                       0.0   0.000000  \n",
      "3  0.171821               582.0                     100.0   0.171821  \n",
      "4  0.025292              1542.0                      39.0   0.025292  \n",
      "\n",
      "MTTR DataFrame:\n",
      "  system_name from_package_name  total_duration  total_post_fix_exposure_time  \\\n",
      "0       CARGO              ahrs             826                           247   \n",
      "1       CARGO      alloc_geiger            1534                          1516   \n",
      "2       CARGO             almel            1682                             9   \n",
      "3       CARGO               amp            1637                           375   \n",
      "4       CARGO             broot            1571                           563   \n",
      "\n",
      "      ratio  avg_total_duration  avg_post_fix_exposure_time  avg_ratio  \n",
      "0  0.299031               826.0                       247.0   0.299031  \n",
      "1  0.988266              1534.0                      1516.0   0.988266  \n",
      "2  0.005351              1682.0                         9.0   0.005351  \n",
      "3  0.229078              1637.0                       375.0   0.229078  \n",
      "4  0.358370              1571.0                       563.0   0.358370  \n"
     ]
    }
   ],
   "source": [
    "# Read MTTU and MTTR data\n",
    "mttu_df = pd.read_csv('../../data/mttu/mttu.csv')\n",
    "mttr_df = pd.read_csv('../../data/mttr/mttr.csv')\n",
    "\n",
    "# Display the first few rows of both dataframes\n",
    "print(\"MTTU DataFrame:\")\n",
    "print(mttu_df.head())\n",
    "print(\"\\nMTTR DataFrame:\")\n",
    "print(mttr_df.head())"
   ]
  },
  {
   "cell_type": "code",
   "execution_count": 9,
   "metadata": {},
   "outputs": [
    {
     "name": "stdout",
     "output_type": "stream",
     "text": [
      "  system_name                              from_package_name  \\\n",
      "0         NPM  @scandipwa/scandipwa-development-toolkit-core   \n",
      "1         NPM                    react-native-usb-serialport   \n",
      "2         NPM         @stdlib/stats-base-dists-binomial-mean   \n",
      "3         NPM                              @arcteryx/js-i18n   \n",
      "4        PYPI                                     ae-literal   \n",
      "\n",
      "   contributions_count  dependent_repos_count  dependents_count  forks  rank  \\\n",
      "0                    0                      0                 4      0     7   \n",
      "1                    0                      1                 3     24     9   \n",
      "2                    1                      7                 8      0    11   \n",
      "3                    0                      0                 0      0     6   \n",
      "4                    0                      1                 5      0     9   \n",
      "\n",
      "   stars  dependencies_count        mttu  \n",
      "0      0                  24  588.954545  \n",
      "1     26                   2  629.000000  \n",
      "2      1                   3   51.333333  \n",
      "3      0                   0    0.000000  \n",
      "4      0                   0    0.000000  \n",
      "159154 22175\n"
     ]
    }
   ],
   "source": [
    "# Rename columns in merged_df\n",
    "merged_df.rename(columns={'platform': 'system_name', 'name': 'from_package_name'}, inplace=True)\n",
    "merged_df['system_name'] = merged_df['system_name'].str.upper()\n",
    "\n",
    "# Rename columns in mttu_df and mttr_df\n",
    "mttu_df.rename(columns={'avg_out_of_date_duration': 'mttu'}, inplace=True)\n",
    "mttr_df.rename(columns={'avg_post_fix_exposure_time': 'mttr'}, inplace=True)\n",
    "\n",
    "# Merge merged_df with mttu_df and mttr_df\n",
    "final_df_with_mttu = pd.merge(merged_df, mttu_df[['system_name', 'from_package_name', 'mttu']], on=['system_name', 'from_package_name'], how='inner')\n",
    "final_df_with_mttr = pd.merge(merged_df, mttr_df[['system_name', 'from_package_name', 'mttr']], on=['system_name', 'from_package_name'], how='inner')\n",
    "\n",
    "# Display the first few rows of the final dataframe\n",
    "print(final_df_with_mttu.head())\n",
    "print(final_df_with_mttu.shape[0], final_df_with_mttr.shape[0])"
   ]
  },
  {
   "cell_type": "code",
   "execution_count": 10,
   "metadata": {
    "vscode": {
     "languageId": "ruby"
    }
   },
   "outputs": [
    {
     "name": "stdout",
     "output_type": "stream",
     "text": [
      "Correlation Results:\n",
      "                       spearman   pearson   kendall\n",
      "contributions_count   -0.080630 -0.078723 -0.058088\n",
      "dependent_repos_count -0.036593  0.000118 -0.028375\n",
      "dependents_count       0.012382 -0.001856  0.006186\n",
      "forks                 -0.096607 -0.076057 -0.070858\n",
      "rank                  -0.167455 -0.150426 -0.119591\n",
      "stars                 -0.129301 -0.075771 -0.093360\n",
      "dependencies_count     0.307006  0.100636  0.218040\n"
     ]
    }
   ],
   "source": [
    "# List of columns to test correlation with mttu\n",
    "columns_to_test = ['contributions_count', 'dependent_repos_count', 'dependents_count', 'forks', 'rank', 'stars', 'dependencies_count']\n",
    "\n",
    "# Initialize a dictionary to store correlation results\n",
    "correlation_results = {'spearman': {}, 'pearson': {}, 'kendall': {}}\n",
    "\n",
    "# Calculate correlations\n",
    "for column in columns_to_test:\n",
    "    correlation_results['spearman'][column] = final_df_with_mttu['mttu'].corr(final_df_with_mttu[column], method='spearman')\n",
    "    correlation_results['pearson'][column] = final_df_with_mttu['mttu'].corr(final_df_with_mttu[column], method='pearson')\n",
    "    correlation_results['kendall'][column] = final_df_with_mttu['mttu'].corr(final_df_with_mttu[column], method='kendall')\n",
    "\n",
    "# Display the correlation results\n",
    "print(\"Correlation Results:\")\n",
    "print(pd.DataFrame(correlation_results))"
   ]
  },
  {
   "cell_type": "code",
   "execution_count": 11,
   "metadata": {
    "vscode": {
     "languageId": "ruby"
    }
   },
   "outputs": [
    {
     "name": "stdout",
     "output_type": "stream",
     "text": [
      "Correlation Results:\n",
      "                       spearman   pearson   kendall\n",
      "contributions_count   -0.226666 -0.068925 -0.160214\n",
      "dependent_repos_count -0.175643 -0.016029 -0.128650\n",
      "dependents_count      -0.136298 -0.016564 -0.094875\n",
      "forks                 -0.211543 -0.023074 -0.152590\n",
      "rank                  -0.269086 -0.221348 -0.188549\n",
      "stars                 -0.218776 -0.050688 -0.155921\n",
      "dependencies_count     0.013570  0.016707  0.009129\n"
     ]
    }
   ],
   "source": [
    "# List of columns to test correlation with mttu\n",
    "columns_to_test = ['contributions_count', 'dependent_repos_count', 'dependents_count', 'forks', 'rank', 'stars', 'dependencies_count']\n",
    "\n",
    "# Initialize a dictionary to store correlation results\n",
    "correlation_results = {'spearman': {}, 'pearson': {}, 'kendall': {}}\n",
    "\n",
    "# Calculate correlations\n",
    "for column in columns_to_test:\n",
    "    correlation_results['spearman'][column] = final_df_with_mttr['mttr'].corr(final_df_with_mttr[column], method='spearman')\n",
    "    correlation_results['pearson'][column] = final_df_with_mttr['mttr'].corr(final_df_with_mttr[column], method='pearson')\n",
    "    correlation_results['kendall'][column] = final_df_with_mttr['mttr'].corr(final_df_with_mttr[column], method='kendall')\n",
    "\n",
    "# Display the correlation results\n",
    "print(\"Correlation Results:\")\n",
    "print(pd.DataFrame(correlation_results))"
   ]
  },
  {
   "cell_type": "code",
   "execution_count": 15,
   "metadata": {},
   "outputs": [
    {
     "name": "stdout",
     "output_type": "stream",
     "text": [
      "Correlation between 'dependency_status' and 'mttu': 0.15352493526426683\n",
      "Correlation between 'dependency_status' and 'mttr': -0.08181994147321954\n"
     ]
    }
   ],
   "source": [
    "# Read dep_status.csv file\n",
    "dep_status_df = pd.read_csv('../../data/dep_status/dep_status.csv')\n",
    "\n",
    "# Merge dep_status_df with final_df_with_mttu\n",
    "merged_with_mttu = pd.merge(final_df_with_mttu, dep_status_df, on=['system_name', 'from_package_name'], how='inner')\n",
    "\n",
    "# Merge dep_status_df with final_df_with_mttr\n",
    "merged_with_mttr = pd.merge(final_df_with_mttr, dep_status_df, on=['system_name', 'from_package_name'], how='inner')\n",
    "\n",
    "# Categorize 'dependency_status' column\n",
    "dependency_status_mapping = {\n",
    "    'all_floating': 0,\n",
    "    'all_pinned': 1,\n",
    "    'mixed': 2\n",
    "}\n",
    "merged_with_mttu['dependency_status_cat'] = merged_with_mttu['dependency_status'].map(dependency_status_mapping)\n",
    "merged_with_mttr['dependency_status_cat'] = merged_with_mttr['dependency_status'].map(dependency_status_mapping)\n",
    "\n",
    "# Calculate correlation between 'dependency_status_cat' and 'mttu' and 'mttr'\n",
    "mttu_correlation = merged_with_mttu['dependency_status_cat'].corr(merged_with_mttu['mttu'], method='spearman')\n",
    "mttr_correlation = merged_with_mttr['dependency_status_cat'].corr(merged_with_mttr['mttr'], method='spearman')\n",
    "\n",
    "# Display the correlation results\n",
    "print(\"Correlation between 'dependency_status' and 'mttu':\", mttu_correlation)\n",
    "print(\"Correlation between 'dependency_status' and 'mttr':\", mttr_correlation)"
   ]
  }
 ],
 "metadata": {
  "kernelspec": {
   "display_name": "secmet_venv",
   "language": "python",
   "name": "python3"
  },
  "language_info": {
   "codemirror_mode": {
    "name": "ipython",
    "version": 3
   },
   "file_extension": ".py",
   "mimetype": "text/x-python",
   "name": "python",
   "nbconvert_exporter": "python",
   "pygments_lexer": "ipython3",
   "version": "3.12.3"
  }
 },
 "nbformat": 4,
 "nbformat_minor": 2
}
